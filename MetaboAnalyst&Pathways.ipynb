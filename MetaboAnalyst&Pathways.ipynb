{
 "cells": [
  {
   "cell_type": "markdown",
   "metadata": {
    "toc": true
   },
   "source": [
    "<h1>Table of Contents<span class=\"tocSkip\"></span></h1>\n",
    "<div class=\"toc\"><ul class=\"toc-item\"><li><span><a href=\"#Pathway-Analysis-Using-Metaboanalyst-in-R\" data-toc-modified-id=\"Pathway-Analysis-Using-Metaboanalyst-in-R-1\">Pathway Analysis Using Metaboanalyst in R</a></span></li></ul></div>"
   ]
  },
  {
   "cell_type": "code",
   "execution_count": 1,
   "metadata": {},
   "outputs": [
    {
     "name": "stderr",
     "output_type": "stream",
     "text": [
      "Warning message in fun(libname, pkgname):\n",
      "“mzR has been built against a different Rcpp version (1.0.4.6)\n",
      "than is installed on your system (1.0.5). This might lead to errors\n",
      "when loading mzR. If you encounter such issues, please send a report,\n",
      "including the output of sessionInfo() to the Bioc support forum at \n",
      "https://support.bioconductor.org/. For details see also\n",
      "https://github.com/sneumann/mzR/wiki/mzR-Rcpp-compiler-linker-issue.”\n",
      "Warning message:\n",
      "“replacing previous import ‘MSnbase::normalize’ by ‘igraph::normalize’ when loading ‘MetaboAnalystR’”\n",
      "Warning message:\n",
      "“replacing previous import ‘data.table::melt’ by ‘reshape::melt’ when loading ‘MetaboAnalystR’”\n",
      "Warning message:\n",
      "“replacing previous import ‘igraph::decompose’ by ‘stats::decompose’ when loading ‘MetaboAnalystR’”\n",
      "Warning message:\n",
      "“replacing previous import ‘pls::loadings’ by ‘stats::loadings’ when loading ‘MetaboAnalystR’”\n",
      "Warning message:\n",
      "“replacing previous import ‘gplots::lowess’ by ‘stats::lowess’ when loading ‘MetaboAnalystR’”\n",
      "Warning message:\n",
      "“replacing previous import ‘MSnbase::smooth’ by ‘stats::smooth’ when loading ‘MetaboAnalystR’”\n",
      "Warning message:\n",
      "“replacing previous import ‘igraph::spectrum’ by ‘stats::spectrum’ when loading ‘MetaboAnalystR’”\n",
      "Warning message:\n",
      "“replacing previous import ‘igraph::groups’ by ‘dplyr::groups’ when loading ‘MetaboAnalystR’”\n",
      "Warning message:\n",
      "“replacing previous import ‘reshape::rename’ by ‘dplyr::rename’ when loading ‘MetaboAnalystR’”\n",
      "Warning message:\n",
      "“replacing previous import ‘data.table::transpose’ by ‘purrr::transpose’ when loading ‘MetaboAnalystR’”\n",
      "Warning message:\n",
      "“replacing previous import ‘reshape::melt’ by ‘reshape2::melt’ when loading ‘MetaboAnalystR’”\n",
      "MetaboAnalystR 3.0.3 initialized Successfully !\n",
      "https://github.com/xia-lab/MetaboAnalystR\n",
      "\n"
     ]
    }
   ],
   "source": [
    "library(MetaboAnalystR)"
   ]
  },
  {
   "cell_type": "code",
   "execution_count": 2,
   "metadata": {},
   "outputs": [],
   "source": [
    "# choose an organ\n",
    "organ_name <- 'Lung'"
   ]
  },
  {
   "cell_type": "markdown",
   "metadata": {},
   "source": [
    "## Pathway Analysis Using Metaboanalyst in R"
   ]
  },
  {
   "cell_type": "code",
   "execution_count": 12,
   "metadata": {},
   "outputs": [],
   "source": [
    "t = read.csv(paste('./Data/Pathway_csvs/', 'Lung_Normal_24_Hr_Sham_path.csv', sep = ''))\n",
    "groups = as.character(unique(unlist(t[1,])))\n",
    "groups = groups[!grepl(\"Label\", groups)]"
   ]
  },
  {
   "cell_type": "code",
   "execution_count": 29,
   "metadata": {},
   "outputs": [],
   "source": [
    "t['new_col'] = 1"
   ]
  },
  {
   "cell_type": "code",
   "execution_count": 31,
   "metadata": {},
   "outputs": [],
   "source": [
    "# assumes samples are in columns and rows are features. \n",
    "\n",
    "do_pathway <- function(path) {\n",
    "    t = read.csv(paste('./Data/Pathway_csvs/', path, sep = ''))\n",
    "    groups = as.character(unique(unlist(t[1,])))\n",
    "    groups = groups[!grepl(\"Label\", groups)]\n",
    "    mSet<-InitDataObjects(\"conc\", \"pathqea\", FALSE)\n",
    "    mSet<-Read.TextData(mSet, paste('./Data/Pathway_csvs/', path, sep = ''), \"colu\", \"disc\")\n",
    "    mSet<-CrossReferencing(mSet, \"kegg\")\n",
    "    mSet<-CreateMappingResultTable(mSet)\n",
    "#     names = c(\"L-Alanine\", \"Uridine 5'-monophosphate\", \"Phosphate\", \"L-Malic acid\", \"Gamma-Glutamyl Glutamine\", \"L-Octanoylcarnitine\")\n",
    "#     kegg_id = c(\"C00041\", \"C00105\", \"C00009\", \"C00149\", \"C05283\", \"C02838\")\n",
    "\n",
    "#     for (i in 1:length(names)) {\n",
    "#         tryCatch({\n",
    "#             mSet<-PerformDetailMatch(mSet, kegg_id[i])\n",
    "#             mSet<-GetCandidateList(mSet)\n",
    "#             mSet<-SetCandidate(mSet, kegg_id[i], names[i])\n",
    "#             }, error = function(e){cat(\"ERROR updating: \", names[i])})\n",
    "#     }\n",
    "\n",
    "    mSet<-SanityCheckData(mSet)\n",
    "    mSet<-ReplaceMin(mSet)\n",
    "    mSet<-PreparePrenormData(mSet)\n",
    "    mSet<-Normalization(mSet, \"NULL\", \"NULL\", \"AutoNorm\", ratio=FALSE, ratioNum=20)\n",
    "    mSet<-SetKEGG.PathLib(mSet, \"mmu\", \"current\")\n",
    "    mSet<-SetMetabolomeFilter(mSet, F)\n",
    "    mSet<-CalculateQeaScore(mSet, \"rbc\", \"gt\")\n",
    "    temp = read.csv(\"pathway_results.csv\")\n",
    "    temp['group_1'] = groups[1]\n",
    "    temp['group_2'] = groups[2]\n",
    "    write.csv(temp, paste('./Data/Pathway_csvs/', '/results_', path, sep = ''))\n",
    "    print(groups)\n",
    "    }\n"
   ]
  },
  {
   "cell_type": "code",
   "execution_count": 32,
   "metadata": {},
   "outputs": [
    {
     "name": "stdout",
     "output_type": "stream",
     "text": [
      "Starting Rserve:\n",
      " /Library/Frameworks/R.framework/Resources/bin/R CMD /Library/Frameworks/R.framework/Versions/4.0/Resources/library/Rserve/libs//Rserve --no-save \n",
      "\n",
      "[1] \"MetaboAnalyst R objects initialized ...\"\n",
      "[1] \"Loaded files from MetaboAnalyst web-server.\"\n",
      "[1] \"Loaded files from MetaboAnalyst web-server.\"\n",
      " [1] \"Successfully passed sanity check!\"                                                                    \n",
      " [2] \"Samples are not paired.\"                                                                              \n",
      " [3] \"2 groups were detected in samples.\"                                                                   \n",
      " [4] \"Only English letters, numbers, underscore, hyphen and forward slash (/) are allowed.\"                 \n",
      " [5] \"<font color=\\\"orange\\\">Other special characters or punctuations (if any) will be stripped off.</font>\"\n",
      " [6] \"All data values are numeric.\"                                                                         \n",
      " [7] \"A total of 0 (0%) missing values were detected.\"                                                      \n",
      " [8] \"<u>By default, these values will be replaced by a small value.</u>\"                                   \n",
      " [9] \"Click the <b>Skip</b> button if you accept the default practice;\"                                     \n",
      "[10] \"Or click the <b>Missing value imputation</b> to use other methods.\"                                   \n",
      "[1] \"Loaded files from MetaboAnalyst web-server.\"\n",
      "[1] \"Pathway QEA via api.metaboanalyst.ca successful!\"\n",
      "[1] \"24 Hr Sham\" \"24 Hr AKI\" \n",
      "Starting Rserve:\n",
      " /Library/Frameworks/R.framework/Resources/bin/R CMD /Library/Frameworks/R.framework/Versions/4.0/Resources/library/Rserve/libs//Rserve --no-save \n",
      "\n",
      "[1] \"MetaboAnalyst R objects initialized ...\"\n",
      "[1] \"Loaded files from MetaboAnalyst web-server.\"\n",
      "[1] \"Loaded files from MetaboAnalyst web-server.\"\n",
      " [1] \"Successfully passed sanity check!\"                                                                    \n",
      " [2] \"Samples are not paired.\"                                                                              \n",
      " [3] \"2 groups were detected in samples.\"                                                                   \n",
      " [4] \"Only English letters, numbers, underscore, hyphen and forward slash (/) are allowed.\"                 \n",
      " [5] \"<font color=\\\"orange\\\">Other special characters or punctuations (if any) will be stripped off.</font>\"\n",
      " [6] \"All data values are numeric.\"                                                                         \n",
      " [7] \"A total of 0 (0%) missing values were detected.\"                                                      \n",
      " [8] \"<u>By default, these values will be replaced by a small value.</u>\"                                   \n",
      " [9] \"Click the <b>Skip</b> button if you accept the default practice;\"                                     \n",
      "[10] \"Or click the <b>Missing value imputation</b> to use other methods.\"                                   \n",
      "[1] \"Loaded files from MetaboAnalyst web-server.\"\n",
      "[1] \"Pathway QEA via api.metaboanalyst.ca successful!\"\n",
      "[1] \"4 Hr Sham\" \"4 Hr AKI\" \n",
      "Starting Rserve:\n",
      " /Library/Frameworks/R.framework/Resources/bin/R CMD /Library/Frameworks/R.framework/Versions/4.0/Resources/library/Rserve/libs//Rserve --no-save \n",
      "\n",
      "[1] \"MetaboAnalyst R objects initialized ...\"\n",
      "[1] \"Loaded files from MetaboAnalyst web-server.\"\n",
      "[1] \"Loaded files from MetaboAnalyst web-server.\"\n",
      " [1] \"Successfully passed sanity check!\"                                                                    \n",
      " [2] \"Samples are not paired.\"                                                                              \n",
      " [3] \"2 groups were detected in samples.\"                                                                   \n",
      " [4] \"Only English letters, numbers, underscore, hyphen and forward slash (/) are allowed.\"                 \n",
      " [5] \"<font color=\\\"orange\\\">Other special characters or punctuations (if any) will be stripped off.</font>\"\n",
      " [6] \"All data values are numeric.\"                                                                         \n",
      " [7] \"A total of 0 (0%) missing values were detected.\"                                                      \n",
      " [8] \"<u>By default, these values will be replaced by a small value.</u>\"                                   \n",
      " [9] \"Click the <b>Skip</b> button if you accept the default practice;\"                                     \n",
      "[10] \"Or click the <b>Missing value imputation</b> to use other methods.\"                                   \n",
      "[1] \"Loaded files from MetaboAnalyst web-server.\"\n",
      "[1] \"Pathway QEA via api.metaboanalyst.ca successful!\"\n",
      "[1] \"7 Day Sham\" \"7 Day AKI\" \n",
      "Starting Rserve:\n",
      " /Library/Frameworks/R.framework/Resources/bin/R CMD /Library/Frameworks/R.framework/Versions/4.0/Resources/library/Rserve/libs//Rserve --no-save \n",
      "\n",
      "[1] \"MetaboAnalyst R objects initialized ...\"\n",
      "[1] \"Loaded files from MetaboAnalyst web-server.\"\n",
      "[1] \"Loaded files from MetaboAnalyst web-server.\"\n",
      " [1] \"Successfully passed sanity check!\"                                                                    \n",
      " [2] \"Samples are not paired.\"                                                                              \n",
      " [3] \"2 groups were detected in samples.\"                                                                   \n",
      " [4] \"Only English letters, numbers, underscore, hyphen and forward slash (/) are allowed.\"                 \n",
      " [5] \"<font color=\\\"orange\\\">Other special characters or punctuations (if any) will be stripped off.</font>\"\n",
      " [6] \"All data values are numeric.\"                                                                         \n",
      " [7] \"A total of 0 (0%) missing values were detected.\"                                                      \n",
      " [8] \"<u>By default, these values will be replaced by a small value.</u>\"                                   \n",
      " [9] \"Click the <b>Skip</b> button if you accept the default practice;\"                                     \n",
      "[10] \"Or click the <b>Missing value imputation</b> to use other methods.\"                                   \n",
      "[1] \"Loaded files from MetaboAnalyst web-server.\"\n",
      "[1] \"Pathway QEA via api.metaboanalyst.ca successful!\"\n",
      "[1] \"Normal\"    \"24 Hr AKI\"\n",
      "Starting Rserve:\n",
      " /Library/Frameworks/R.framework/Resources/bin/R CMD /Library/Frameworks/R.framework/Versions/4.0/Resources/library/Rserve/libs//Rserve --no-save \n",
      "\n",
      "[1] \"MetaboAnalyst R objects initialized ...\"\n",
      "[1] \"Loaded files from MetaboAnalyst web-server.\"\n",
      "[1] \"Loaded files from MetaboAnalyst web-server.\"\n",
      " [1] \"Successfully passed sanity check!\"                                                                    \n",
      " [2] \"Samples are not paired.\"                                                                              \n",
      " [3] \"2 groups were detected in samples.\"                                                                   \n",
      " [4] \"Only English letters, numbers, underscore, hyphen and forward slash (/) are allowed.\"                 \n",
      " [5] \"<font color=\\\"orange\\\">Other special characters or punctuations (if any) will be stripped off.</font>\"\n",
      " [6] \"All data values are numeric.\"                                                                         \n",
      " [7] \"A total of 0 (0%) missing values were detected.\"                                                      \n",
      " [8] \"<u>By default, these values will be replaced by a small value.</u>\"                                   \n",
      " [9] \"Click the <b>Skip</b> button if you accept the default practice;\"                                     \n",
      "[10] \"Or click the <b>Missing value imputation</b> to use other methods.\"                                   \n",
      "[1] \"Loaded files from MetaboAnalyst web-server.\"\n",
      "[1] \"Pathway QEA via api.metaboanalyst.ca successful!\"\n",
      "[1] \"Normal\"     \"24 Hr Sham\"\n",
      "Starting Rserve:\n",
      " /Library/Frameworks/R.framework/Resources/bin/R CMD /Library/Frameworks/R.framework/Versions/4.0/Resources/library/Rserve/libs//Rserve --no-save \n",
      "\n",
      "[1] \"MetaboAnalyst R objects initialized ...\"\n",
      "[1] \"Loaded files from MetaboAnalyst web-server.\"\n",
      "[1] \"Loaded files from MetaboAnalyst web-server.\"\n",
      " [1] \"Successfully passed sanity check!\"                                                                    \n",
      " [2] \"Samples are not paired.\"                                                                              \n",
      " [3] \"2 groups were detected in samples.\"                                                                   \n",
      " [4] \"Only English letters, numbers, underscore, hyphen and forward slash (/) are allowed.\"                 \n",
      " [5] \"<font color=\\\"orange\\\">Other special characters or punctuations (if any) will be stripped off.</font>\"\n",
      " [6] \"All data values are numeric.\"                                                                         \n",
      " [7] \"A total of 0 (0%) missing values were detected.\"                                                      \n",
      " [8] \"<u>By default, these values will be replaced by a small value.</u>\"                                   \n",
      " [9] \"Click the <b>Skip</b> button if you accept the default practice;\"                                     \n",
      "[10] \"Or click the <b>Missing value imputation</b> to use other methods.\"                                   \n",
      "[1] \"Loaded files from MetaboAnalyst web-server.\"\n",
      "[1] \"Pathway QEA via api.metaboanalyst.ca successful!\"\n",
      "[1] \"Normal\"   \"4 Hr AKI\"\n",
      "Starting Rserve:\n",
      " /Library/Frameworks/R.framework/Resources/bin/R CMD /Library/Frameworks/R.framework/Versions/4.0/Resources/library/Rserve/libs//Rserve --no-save \n",
      "\n",
      "[1] \"MetaboAnalyst R objects initialized ...\"\n",
      "[1] \"Loaded files from MetaboAnalyst web-server.\"\n",
      "[1] \"Loaded files from MetaboAnalyst web-server.\"\n",
      " [1] \"Successfully passed sanity check!\"                                                                    \n",
      " [2] \"Samples are not paired.\"                                                                              \n",
      " [3] \"2 groups were detected in samples.\"                                                                   \n",
      " [4] \"Only English letters, numbers, underscore, hyphen and forward slash (/) are allowed.\"                 \n",
      " [5] \"<font color=\\\"orange\\\">Other special characters or punctuations (if any) will be stripped off.</font>\"\n",
      " [6] \"All data values are numeric.\"                                                                         \n",
      " [7] \"A total of 0 (0%) missing values were detected.\"                                                      \n",
      " [8] \"<u>By default, these values will be replaced by a small value.</u>\"                                   \n",
      " [9] \"Click the <b>Skip</b> button if you accept the default practice;\"                                     \n",
      "[10] \"Or click the <b>Missing value imputation</b> to use other methods.\"                                   \n",
      "[1] \"Loaded files from MetaboAnalyst web-server.\"\n",
      "[1] \"Pathway QEA via api.metaboanalyst.ca successful!\"\n",
      "[1] \"Normal\"    \"4 Hr Sham\"\n",
      "Starting Rserve:\n",
      " /Library/Frameworks/R.framework/Resources/bin/R CMD /Library/Frameworks/R.framework/Versions/4.0/Resources/library/Rserve/libs//Rserve --no-save \n",
      "\n",
      "[1] \"MetaboAnalyst R objects initialized ...\"\n",
      "[1] \"Loaded files from MetaboAnalyst web-server.\"\n",
      "[1] \"Loaded files from MetaboAnalyst web-server.\"\n",
      " [1] \"Successfully passed sanity check!\"                                                                    \n",
      " [2] \"Samples are not paired.\"                                                                              \n",
      " [3] \"2 groups were detected in samples.\"                                                                   \n",
      " [4] \"Only English letters, numbers, underscore, hyphen and forward slash (/) are allowed.\"                 \n",
      " [5] \"<font color=\\\"orange\\\">Other special characters or punctuations (if any) will be stripped off.</font>\"\n",
      " [6] \"All data values are numeric.\"                                                                         \n",
      " [7] \"A total of 0 (0%) missing values were detected.\"                                                      \n",
      " [8] \"<u>By default, these values will be replaced by a small value.</u>\"                                   \n",
      " [9] \"Click the <b>Skip</b> button if you accept the default practice;\"                                     \n",
      "[10] \"Or click the <b>Missing value imputation</b> to use other methods.\"                                   \n",
      "[1] \"Loaded files from MetaboAnalyst web-server.\"\n",
      "[1] \"Pathway QEA via api.metaboanalyst.ca successful!\"\n",
      "[1] \"Normal\"    \"7 Day AKI\"\n",
      "Starting Rserve:\n",
      " /Library/Frameworks/R.framework/Resources/bin/R CMD /Library/Frameworks/R.framework/Versions/4.0/Resources/library/Rserve/libs//Rserve --no-save \n",
      "\n",
      "[1] \"MetaboAnalyst R objects initialized ...\"\n",
      "[1] \"Loaded files from MetaboAnalyst web-server.\"\n",
      "[1] \"Loaded files from MetaboAnalyst web-server.\"\n",
      " [1] \"Successfully passed sanity check!\"                                                                    \n",
      " [2] \"Samples are not paired.\"                                                                              \n",
      " [3] \"2 groups were detected in samples.\"                                                                   \n",
      " [4] \"Only English letters, numbers, underscore, hyphen and forward slash (/) are allowed.\"                 \n",
      " [5] \"<font color=\\\"orange\\\">Other special characters or punctuations (if any) will be stripped off.</font>\"\n",
      " [6] \"All data values are numeric.\"                                                                         \n",
      " [7] \"A total of 0 (0%) missing values were detected.\"                                                      \n",
      " [8] \"<u>By default, these values will be replaced by a small value.</u>\"                                   \n",
      " [9] \"Click the <b>Skip</b> button if you accept the default practice;\"                                     \n",
      "[10] \"Or click the <b>Missing value imputation</b> to use other methods.\"                                   \n",
      "[1] \"Loaded files from MetaboAnalyst web-server.\"\n",
      "[1] \"Pathway QEA via api.metaboanalyst.ca successful!\"\n",
      "[1] \"Normal\"     \"7 Day Sham\"\n",
      "Starting Rserve:\n",
      " /Library/Frameworks/R.framework/Resources/bin/R CMD /Library/Frameworks/R.framework/Versions/4.0/Resources/library/Rserve/libs//Rserve --no-save \n",
      "\n",
      "[1] \"MetaboAnalyst R objects initialized ...\"\n",
      "[1] \"A total of 9 groups found with 10 samples.\"\n",
      "[1] \"At least three replicates are required in each group!\"\n",
      "[1] \"Or maybe you forgot to specify the data format?\"\n"
     ]
    },
    {
     "name": "stderr",
     "output_type": "stream",
     "text": [
      "Warning message in mSetObj$return.cols <- c(hmdb, pubchem, chebi, kegg, metlin):\n",
      "“Coercing LHS to a list”\n"
     ]
    },
    {
     "ename": "ERROR",
     "evalue": "Error in list2env(list(0, return.cols = c(TRUE, TRUE, FALSE, TRUE, FALSE: attempt to use zero-length variable name\n",
     "output_type": "error",
     "traceback": [
      "Error in list2env(list(0, return.cols = c(TRUE, TRUE, FALSE, TRUE, FALSE: attempt to use zero-length variable name\nTraceback:\n",
      "1. do_pathway(i)",
      "2. CrossReferencing(mSet, \"kegg\")   # at line 9 of file <text>",
      "3. exists(\"name.map\", where = mSetObj)",
      "4. list2env(list(0, return.cols = c(TRUE, TRUE, FALSE, TRUE, FALSE\n . )), NULL, <environment>)"
     ]
    }
   ],
   "source": [
    "for (i in dir(path = paste(\"./Data/Pathway_csvs/\", sep = ''))) {\n",
    "    do_pathway(i)\n",
    "}"
   ]
  },
  {
   "cell_type": "code",
   "execution_count": 9,
   "metadata": {},
   "outputs": [],
   "source": [
    "# switch to python"
   ]
  },
  {
   "cell_type": "code",
   "execution_count": null,
   "metadata": {},
   "outputs": [],
   "source": [
    "#mSet<-PlotNormSummary(mSet, \"norm_0_\", \"png\", 72, width=NA)\n",
    "#mSet<-PlotPathSummary(mSet, \"path_view_0_\", \"png\", 72, width=NA)\n",
    "#mSet<-SaveTransformedData(mSet)"
   ]
  },
  {
   "cell_type": "code",
   "execution_count": null,
   "metadata": {},
   "outputs": [],
   "source": [
    "library(KEGGREST)\n",
    "mouse_paths = keggList(\"pathway\", \"mmu\")\n",
    "names(mouse_paths) <- gsub(\"path:\",\"\",names(mouse_paths))\n",
    "mouse_paths <- gsub(\" - Mus musculus \\\\(mouse\\\\)\",\"\",mouse_paths)"
   ]
  },
  {
   "cell_type": "code",
   "execution_count": null,
   "metadata": {},
   "outputs": [],
   "source": [
    "rownames(why) <- mouse_paths[(match(rownames(why), names(mouse_paths)))]"
   ]
  },
  {
   "cell_type": "code",
   "execution_count": null,
   "metadata": {},
   "outputs": [],
   "source": [
    "path_names = c()\n",
    "for (i in 1:ceiling((length(rownames(mSet$analSet$qea.mat))/9))) {\n",
    "    temp = keggGet(rownames(mSet$analSet$qea.mat[(1+9*(i-1)):((9*i)+1),]))\n",
    "    for (j in 1:(length(test))) {\n",
    "        print(j)\n",
    "        path_names <- append(path_names, temp[[j]]$NAME)\n",
    "    }\n",
    "}"
   ]
  },
  {
   "cell_type": "code",
   "execution_count": null,
   "metadata": {},
   "outputs": [],
   "source": [
    "length(path_names)"
   ]
  },
  {
   "cell_type": "code",
   "execution_count": null,
   "metadata": {},
   "outputs": [],
   "source": [
    "y[[1]]$NAME"
   ]
  },
  {
   "cell_type": "code",
   "execution_count": null,
   "metadata": {},
   "outputs": [],
   "source": [
    "keggList(\"organism\")"
   ]
  },
  {
   "cell_type": "code",
   "execution_count": null,
   "metadata": {},
   "outputs": [],
   "source": []
  }
 ],
 "metadata": {
  "kernelspec": {
   "display_name": "R",
   "language": "R",
   "name": "ir"
  },
  "language_info": {
   "codemirror_mode": "r",
   "file_extension": ".r",
   "mimetype": "text/x-r-source",
   "name": "R",
   "pygments_lexer": "r",
   "version": "4.0.2"
  },
  "toc": {
   "base_numbering": 1,
   "nav_menu": {},
   "number_sections": false,
   "sideBar": false,
   "skip_h1_title": false,
   "title_cell": "Table of Contents",
   "title_sidebar": "Contents",
   "toc_cell": true,
   "toc_position": {},
   "toc_section_display": true,
   "toc_window_display": false
  }
 },
 "nbformat": 4,
 "nbformat_minor": 4
}
